{
 "cells": [
  {
   "cell_type": "markdown",
   "metadata": {},
   "source": [
    "1.资产收益率序列的扰动{$a_t$}是序列不相关的，但是不独立。\n",
    "\n",
    "2.{$a_t$}的不独立性可以用其延迟值的简单二次函数来描述。\n",
    "\n",
    "具体而言，一个ARCH\\(m\\)模型为：$$ \\large a_t = \\sigma_t\\varepsilon_t \\sigma_t^2 = \\alpha_0 + \\alpha_1a_{t-1}^2 + \\cdots + \\alpha_m a_{t-m}^2 \\\\ \\large \\alpha_0 > 0; \\forall i > 0, \\alpha_i \\geqslant 0 $$\n",
    "\n",
    "其中，$ \\{\\varepsilon_t\\} $为**均值为0，方差为1的独立同分布（iid）随机变量序列**，通常假定其服从标准正态分布。$ \\sigma_t^2$为条件异方差。"
   ]
  },
  {
   "cell_type": "code",
   "execution_count": null,
   "metadata": {},
   "outputs": [],
   "source": []
  }
 ],
 "metadata": {
  "kernelspec": {
   "display_name": "Python 2",
   "language": "python",
   "name": "python2"
  },
  "language_info": {
   "codemirror_mode": {
    "name": "ipython",
    "version": 2
   },
   "file_extension": ".py",
   "mimetype": "text/x-python",
   "name": "python",
   "nbconvert_exporter": "python",
   "pygments_lexer": "ipython2",
   "version": "2.7.15"
  }
 },
 "nbformat": 4,
 "nbformat_minor": 2
}
