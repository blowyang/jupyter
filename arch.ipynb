{
 "cells": [
  {
   "cell_type": "markdown",
   "metadata": {},
   "source": [
    "# Volatility Forecasting\n",
    "\n",
    "This setup code is required to run in an IPython notebook"
   ]
  },
  {
   "cell_type": "code",
   "execution_count": 7,
   "metadata": {},
   "outputs": [],
   "source": [
    "import warnings\n",
    "warnings.simplefilter('ignore')\n",
    "\n",
    "%matplotlib inline\n",
    "import seaborn\n",
    "seaborn.set_style('darkgrid')"
   ]
  },
  {
   "cell_type": "markdown",
   "metadata": {},
   "source": [
    "## Data\n",
    "\n",
    "These examples make use of S&P 500 data from Yahoo! using the pandas-datareader package to manage data download."
   ]
  },
  {
   "cell_type": "code",
   "execution_count": 13,
   "metadata": {},
   "outputs": [],
   "source": [
    "import datetime as dt\n",
    "import sys\n",
    "\n",
    "import numpy as np\n",
    "import pandas as pd\n",
    "import pandas_datareader.data as web\n",
    "\n",
    "from arch import arch_model\n",
    "import matplotlib.pyplot as plt\n",
    "import statsmodels.api as sm\n",
    "from statsmodels.graphics.tsaplots import acf,pacf,plot_acf,plot_pacf\n",
    "from statsmodels.tsa.arima_model import ARMA\n",
    "\n",
    "start = dt.datetime(2000,1,1)\n",
    "end = dt.datetime(2017,1,1)\n",
    "data = web.get_data_famafrench('F-F_Research_Data_Factors_daily', start=start, end=end)\n",
    "mkt_returns = data[0]['Mkt-RF'] +  data[0]['RF']\n",
    "returns = mkt_returns"
   ]
  },
  {
   "cell_type": "code",
   "execution_count": 10,
   "metadata": {},
   "outputs": [
    {
     "name": "stdout",
     "output_type": "stream",
     "text": [
      "                                   value\n",
      "Test Statistic Value            -16.0343\n",
      "p-value                      6.00936e-29\n",
      "Lags Used                             17\n",
      "Number of Observations Used         4259\n",
      "Critical Value(1%)              -3.43189\n",
      "Critical Value(5%)              -2.86222\n",
      "Critical Value(10%)             -2.56713\n"
     ]
    }
   ],
   "source": [
    "t=sm.tsa.stattools.adfuller(returns, )\n",
    "output=pd.DataFrame(index=['Test Statistic Value', \"p-value\", \"Lags Used\", \"Number of Observations Used\",\"Critical Value(1%)\",\"Critical Value(5%)\",\"Critical Value(10%)\"],columns=['value'])\n",
    "output['value']['Test Statistic Value'] = t[0]\n",
    "output['value']['p-value'] = t[1]\n",
    "output['value']['Lags Used'] = t[2]\n",
    "output['value']['Number of Observations Used'] = t[3]\n",
    "output['value']['Critical Value(1%)'] = t[4]['1%']\n",
    "output['value']['Critical Value(5%)'] = t[4]['5%']\n",
    "output['value']['Critical Value(10%)'] = t[4]['10%']\n",
    "print(output)"
   ]
  },
  {
   "cell_type": "code",
   "execution_count": 12,
   "metadata": {},
   "outputs": [],
   "source": [
    "(p, q) =(sm.tsa.arma_order_select_ic(returns,max_ar=3,max_ma=3,ic='aic')['aic_min_order'])"
   ]
  },
  {
   "cell_type": "code",
   "execution_count": 26,
   "metadata": {},
   "outputs": [
    {
     "name": "stdout",
     "output_type": "stream",
     "text": [
      "Iteration:      1,   Func. Count:      9,   Neg. LLF: 6129.67470532\n",
      "Iteration:      2,   Func. Count:     22,   Neg. LLF: 6123.15118622\n",
      "Iteration:      3,   Func. Count:     35,   Neg. LLF: 6122.61946369\n",
      "Iteration:      4,   Func. Count:     46,   Neg. LLF: 6119.82761469\n",
      "Iteration:      5,   Func. Count:     59,   Neg. LLF: 6119.74021788\n",
      "Iteration:      6,   Func. Count:     71,   Neg. LLF: 6119.5617966\n",
      "Iteration:      7,   Func. Count:     83,   Neg. LLF: 6119.48909348\n",
      "Iteration:      8,   Func. Count:     93,   Neg. LLF: 6117.93758659\n",
      "Iteration:      9,   Func. Count:    104,   Neg. LLF: 6117.83725007\n",
      "Iteration:     10,   Func. Count:    113,   Neg. LLF: 6117.07467283\n",
      "Iteration:     11,   Func. Count:    122,   Neg. LLF: 6115.81802025\n",
      "Iteration:     12,   Func. Count:    131,   Neg. LLF: 6115.75621502\n",
      "Iteration:     13,   Func. Count:    140,   Neg. LLF: 6115.75387949\n",
      "Iteration:     14,   Func. Count:    149,   Neg. LLF: 6115.753862\n",
      "Optimization terminated successfully.    (Exit mode 0)\n",
      "            Current function value: 6115.75386201\n",
      "            Iterations: 14\n",
      "            Function evaluations: 149\n",
      "            Gradient evaluations: 14\n"
     ]
    },
    {
     "data": {
      "text/html": [
       "<div>\n",
       "<style scoped>\n",
       "    .dataframe tbody tr th:only-of-type {\n",
       "        vertical-align: middle;\n",
       "    }\n",
       "\n",
       "    .dataframe tbody tr th {\n",
       "        vertical-align: top;\n",
       "    }\n",
       "\n",
       "    .dataframe thead th {\n",
       "        text-align: right;\n",
       "    }\n",
       "</style>\n",
       "<table border=\"1\" class=\"dataframe\">\n",
       "  <thead>\n",
       "    <tr style=\"text-align: right;\">\n",
       "      <th></th>\n",
       "      <th>h.1</th>\n",
       "      <th>h.2</th>\n",
       "      <th>h.3</th>\n",
       "      <th>h.4</th>\n",
       "      <th>h.5</th>\n",
       "    </tr>\n",
       "    <tr>\n",
       "      <th>Date</th>\n",
       "      <th></th>\n",
       "      <th></th>\n",
       "      <th></th>\n",
       "      <th></th>\n",
       "      <th></th>\n",
       "    </tr>\n",
       "  </thead>\n",
       "  <tbody>\n",
       "    <tr>\n",
       "      <th>2016-12-30</th>\n",
       "      <td>0.404997</td>\n",
       "      <td>0.421208</td>\n",
       "      <td>0.436856</td>\n",
       "      <td>0.451938</td>\n",
       "      <td>0.466716</td>\n",
       "    </tr>\n",
       "  </tbody>\n",
       "</table>\n",
       "</div>"
      ],
      "text/plain": [
       "                 h.1       h.2       h.3       h.4       h.5\n",
       "Date                                                        \n",
       "2016-12-30  0.404997  0.421208  0.436856  0.451938  0.466716"
      ]
     },
     "execution_count": 26,
     "metadata": {},
     "output_type": "execute_result"
    }
   ],
   "source": [
    "am = arch_model(returns,mean='AR',lags=3,vol='GARCH') \n",
    "res = am.fit()\n",
    "forecasts = res.forecast(horizon=5)\n",
    "forecasts.variance.dropna()"
   ]
  },
  {
   "cell_type": "markdown",
   "metadata": {},
   "source": [
    "## Basic Forecasting\n",
    "\n",
    "Forecasts can be generated for standard GARCH(p,q) processes using any of the three forecast generation methods:\n",
    "\n",
    "Analytical\n",
    "Simulation-based\n",
    "Bootstrap-based\n",
    "Be default forecasts will only be produced for the final observation in the sample so that they are out-of-sample.\n",
    "\n",
    "Forecasts start with specifying the model and estimating parameters."
   ]
  },
  {
   "cell_type": "code",
   "execution_count": 23,
   "metadata": {},
   "outputs": [
    {
     "name": "stdout",
     "output_type": "stream",
     "text": [
      "Iteration:      1,   Func. Count:      6,   Neg. LLF: 6139.78858301\n",
      "Iteration:      2,   Func. Count:     16,   Neg. LLF: 6136.19371623\n",
      "Iteration:      3,   Func. Count:     24,   Neg. LLF: 6132.33139526\n",
      "Iteration:      4,   Func. Count:     32,   Neg. LLF: 6132.1649486\n",
      "Iteration:      5,   Func. Count:     39,   Neg. LLF: 6130.46329048\n",
      "Iteration:      6,   Func. Count:     46,   Neg. LLF: 6130.15103208\n",
      "Iteration:      7,   Func. Count:     53,   Neg. LLF: 6128.71766239\n",
      "Iteration:      8,   Func. Count:     59,   Neg. LLF: 6128.48693945\n",
      "Iteration:      9,   Func. Count:     65,   Neg. LLF: 6128.47375042\n",
      "Iteration:     10,   Func. Count:     71,   Neg. LLF: 6128.47317714\n",
      "Iteration:     11,   Func. Count:     77,   Neg. LLF: 6128.4731682\n",
      "Optimization terminated successfully.    (Exit mode 0)\n",
      "            Current function value: 6128.4731682\n",
      "            Iterations: 11\n",
      "            Function evaluations: 77\n",
      "            Gradient evaluations: 11\n"
     ]
    }
   ],
   "source": [
    "am = arch_model(returns, vol='Garch', p=1, o=0, q=1, dist='Normal')\n",
    "res = am.fit(update_freq=5)"
   ]
  },
  {
   "cell_type": "markdown",
   "metadata": {},
   "source": [
    "Forecasts are contained in an ARCHModelForecast object which has 4 attributes:\n",
    "<ol>\n",
    "<li>mean - The forecast means</li>\n",
    "<li>residual_variance - The forecast residual variances, that is Et[ϵ2t+h]Et[ϵt+h2]</li>\n",
    "<li>variance - The forecast variance of the process, Et[r2t+h]Et[rt+h2]. The variance will differ from the residual variance whenever the model has mean dynamics, e.g., in an AR process.</li>\n",
    "<li>simulations - An object that contains detailed information about the simulations used to generate forecasts. Only used if the forecast method is set to 'simulation' or 'bootstrap'. If using 'analytical' (the default), this is None.</li>\n",
    "</ol>\n",
    "The three main outputs are all returned in DataFrames with columns of the form h.# where # is the number of steps ahead. That is, h.1 corresponds to one-step ahead forecasts while h.10 corresponds to 10-steps ahead.\n",
    "\n",
    "The default forecast only produces 1-step ahear forecasts."
   ]
  },
  {
   "cell_type": "code",
   "execution_count": 5,
   "metadata": {},
   "outputs": [
    {
     "name": "stdout",
     "output_type": "stream",
     "text": [
      "                 h.1\n",
      "Date                \n",
      "2016-12-28       NaN\n",
      "2016-12-29       NaN\n",
      "2016-12-30  0.061285\n",
      "                 h.1\n",
      "Date                \n",
      "2016-12-28       NaN\n",
      "2016-12-29       NaN\n",
      "2016-12-30  0.400956\n",
      "                 h.1\n",
      "Date                \n",
      "2016-12-28       NaN\n",
      "2016-12-29       NaN\n",
      "2016-12-30  0.400956\n"
     ]
    }
   ],
   "source": [
    "print(forecasts.mean.iloc[-3:])\n",
    "print(forecasts.residual_variance.iloc[-3:])\n",
    "print(forecasts.variance.iloc[-3:])"
   ]
  },
  {
   "cell_type": "markdown",
   "metadata": {},
   "source": [
    "Longer horizon forecasts can be computed by passing the parameter horizon."
   ]
  },
  {
   "cell_type": "code",
   "execution_count": 9,
   "metadata": {},
   "outputs": [
    {
     "name": "stdout",
     "output_type": "stream",
     "text": [
      "                 h.1       h.2       h.3       h.4       h.5\n",
      "Date                                                        \n",
      "2016-12-28       NaN       NaN       NaN       NaN       NaN\n",
      "2016-12-29       NaN       NaN       NaN       NaN       NaN\n",
      "2016-12-30  0.400956  0.416563  0.431896  0.446961  0.461762\n"
     ]
    }
   ],
   "source": [
    "forecasts = res.forecast(horizon=5)\n",
    "print(forecasts.residual_variance.iloc[-3:])"
   ]
  },
  {
   "cell_type": "markdown",
   "metadata": {},
   "source": [
    "Values that are not computed are nan-filled."
   ]
  },
  {
   "cell_type": "markdown",
   "metadata": {},
   "source": [
    "## Alternative Forecast Generation Schemes \n",
    "\n",
    "### Fixed Window Forecasting ##\n",
    "\n",
    "Fixed-windows forecasting uses data up to a specified date to generate all forecasts after that date. This cna be implemented by passing the entire data in when initializing the model and then using last_obs when calling fit. forecast() will, by default, produce forecasts after this final date.\n",
    "\n",
    "Note last_obs follow Python sequence rules so that the actual date in last_obs is not in the sample."
   ]
  },
  {
   "cell_type": "code",
   "execution_count": 10,
   "metadata": {},
   "outputs": [
    {
     "name": "stdout",
     "output_type": "stream",
     "text": [
      "Iteration:      5,   Func. Count:     38,   Neg. LLF: 4204.91956121\n",
      "Iteration:     10,   Func. Count:     72,   Neg. LLF: 4202.81502485\n",
      "Optimization terminated successfully.    (Exit mode 0)\n",
      "            Current function value: 4202.81211069\n",
      "            Iterations: 12\n",
      "            Function evaluations: 84\n",
      "            Gradient evaluations: 12\n",
      "                 h.1       h.2       h.3       h.4       h.5\n",
      "Date                                                        \n",
      "2010-12-31  0.365727  0.376462  0.387106  0.397660  0.408124\n",
      "2011-01-03  0.451526  0.461532  0.471453  0.481290  0.491043\n",
      "2011-01-04  0.432131  0.442302  0.452387  0.462386  0.472300\n",
      "2011-01-05  0.430051  0.440239  0.450341  0.460358  0.470289\n",
      "2011-01-06  0.407841  0.418219  0.428508  0.438710  0.448825\n"
     ]
    }
   ],
   "source": [
    "res = am.fit(last_obs = '2011-1-1', update_freq=5)\n",
    "forecasts = res.forecast(horizon=5)\n",
    "print(forecasts.variance.dropna().head())"
   ]
  },
  {
   "cell_type": "markdown",
   "metadata": {},
   "source": [
    "## Rolling Window Forecasting\n",
    "\n",
    "Rolling window forecasts use a fixed sample length and then produce one-step from the final observation. These can be implemented using first_obs and last_obs."
   ]
  },
  {
   "cell_type": "code",
   "execution_count": 12,
   "metadata": {},
   "outputs": [
    {
     "name": "stdout",
     "output_type": "stream",
     "text": [
      "....................()\n",
      "                 h.1       h.2       h.3\n",
      "2009-12-31  0.598199  0.605960  0.613661\n",
      "2010-01-04  0.771974  0.778431  0.784837\n",
      "2010-01-05  0.724185  0.731008  0.737781\n",
      "2010-01-06  0.674237  0.681423  0.688555\n",
      "2010-01-07  0.637534  0.644995  0.652399\n",
      "2010-01-08  0.601684  0.609451  0.617161\n",
      "2010-01-11  0.562393  0.570450  0.578447\n",
      "2010-01-12  0.613401  0.621098  0.628738\n",
      "2010-01-13  0.623059  0.630676  0.638236\n",
      "2010-01-14  0.584403  0.592291  0.600119\n",
      "2010-01-15  0.654097  0.661483  0.668813\n",
      "2010-01-19  0.725471  0.732355  0.739187\n",
      "2010-01-20  0.758533  0.765176  0.771770\n",
      "2010-01-21  0.958742  0.964005  0.969229\n",
      "2010-01-22  1.272999  1.276121  1.279220\n",
      "2010-01-25  1.182257  1.186084  1.189883\n",
      "2010-01-26  1.110357  1.114637  1.118885\n",
      "2010-01-27  1.044077  1.048777  1.053442\n",
      "2010-01-28  1.085489  1.089873  1.094223\n",
      "2010-01-29  1.088349  1.092875  1.097367\n"
     ]
    }
   ],
   "source": [
    "index = returns.index\n",
    "start_loc = 0\n",
    "end_loc = np.where(index >= '2010-1-1')[0].min()\n",
    "forecasts = {}\n",
    "for i in range(20):\n",
    "    sys.stdout.write('.')\n",
    "    sys.stdout.flush()\n",
    "    res = am.fit(first_obs=i, last_obs=i+end_loc, disp='off')\n",
    "    temp = res.forecast(horizon=3).variance\n",
    "    fcast = temp.iloc[i+end_loc-1]\n",
    "    forecasts[fcast.name] = fcast\n",
    "print()\n",
    "print(pd.DataFrame(forecasts).T)"
   ]
  },
  {
   "cell_type": "code",
   "execution_count": null,
   "metadata": {},
   "outputs": [],
   "source": []
  }
 ],
 "metadata": {
  "kernelspec": {
   "display_name": "Python 2",
   "language": "python",
   "name": "python2"
  },
  "language_info": {
   "codemirror_mode": {
    "name": "ipython",
    "version": 2
   },
   "file_extension": ".py",
   "mimetype": "text/x-python",
   "name": "python",
   "nbconvert_exporter": "python",
   "pygments_lexer": "ipython2",
   "version": "2.7.14"
  }
 },
 "nbformat": 4,
 "nbformat_minor": 2
}
