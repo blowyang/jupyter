{
 "cells": [
  {
   "cell_type": "code",
   "execution_count": null,
   "metadata": {
    "scrolled": true
   },
   "outputs": [],
   "source": [
    "str='hello word!'\n",
    "print str"
   ]
  },
  {
   "cell_type": "code",
   "execution_count": null,
   "metadata": {},
   "outputs": [],
   "source": [
    "dir(__builtins__)"
   ]
  },
  {
   "cell_type": "code",
   "execution_count": null,
   "metadata": {},
   "outputs": [],
   "source": [
    "help(pow)"
   ]
  },
  {
   "cell_type": "code",
   "execution_count": null,
   "metadata": {},
   "outputs": [],
   "source": [
    "pow(2,3)"
   ]
  },
  {
   "cell_type": "code",
   "execution_count": null,
   "metadata": {},
   "outputs": [],
   "source": [
    "range(1,10,1)"
   ]
  },
  {
   "cell_type": "markdown",
   "metadata": {},
   "source": [
    "<ol>\n",
    "    <li>当标的资产价格上升（下降）时，看涨（看跌）期权变得更有价值。因为此时期权成为实值期权的可能性也越高。</li>\n",
    "    <li>随着时间的流逝，期权的价值将下降。因为期权变为实值期权的时间减小了。</li>\n",
    "    <li>利率上涨时，期权的价值也将下降。因为我们需要融资来买入期权，当利率上涨时，我们的融资成本也会上升。</li>\n",
    "</ol>"
   ]
  },
  {
   "cell_type": "code",
   "execution_count": null,
   "metadata": {},
   "outputs": [],
   "source": [
    "from threading import Timer\n"
   ]
  },
  {
   "cell_type": "code",
   "execution_count": null,
   "metadata": {},
   "outputs": [],
   "source": [
    "from __future__ import unicode_literals\n",
    "from wxpy import *\n",
    "from datetime import datetime \n",
    "import time as tm\n",
    "import requests\n",
    "bot=Bot()\n",
    "h=16\n",
    "m=58\n",
    "def get_news():\n",
    "    '''获取金山词霸每日一句，英文和翻译'''\n",
    "    url='http://open.iciba.com/dsapi'\n",
    "    r=requests.get(url)\n",
    "    content=r.json()['content']\n",
    "    note=r.json()['note']\n",
    "    return content,note\n",
    "def send_news():\n",
    "    try:\n",
    "        contents=get_news()\n",
    "        my_friend=bot.friends().search(u'YangPero')[0]\n",
    "        my_friend.send(contents[0])\n",
    "        my_friend.send(contents[1])\n",
    "    except:\n",
    "        my_friend=bot.friends().search(u'blowyang_2020')[0]\n",
    "        my_friend.send(u'send fail')\n",
    "def doSth():\n",
    "    send_news()\n",
    "    # 假装做这件事情需要一分钟\n",
    "    tm.sleep(60)\n",
    "while True:\n",
    "    # 判断是否达到设定时间，例如0:00\n",
    "    while True:\n",
    "        now = datetime.now()\n",
    "        # 到达设定时间，结束内循环\n",
    "        if now.hour==h and now.minute==m:\n",
    "            break\n",
    "        # 不到时间就等20秒之后再次检测\n",
    "        tm.sleep(20)\n",
    "    # 做正事，一天做一次\n",
    "    doSth()"
   ]
  },
  {
   "cell_type": "code",
   "execution_count": null,
   "metadata": {},
   "outputs": [],
   "source": [
    "import threading\n",
    "\n",
    "from datetime import datetime \n",
    "\n",
    "def send_news(check):\n",
    "    now = datetime.now()\n",
    "    if now.hour==13 and now.minute==55:\n",
    "        check=True\n",
    "    if now.hour==13 and now.minute==58 and check:\n",
    "        check=False\n",
    "        print \"sending...\"\n",
    "def time_thread():\n",
    "    print \"执行了业务逻辑\"\n",
    "    check=True\n",
    "    send_news(check)\n",
    "    t = threading.Timer(40, time_thread)\n",
    "    t.start()\n",
    "\n",
    "time_thread()"
   ]
  },
  {
   "cell_type": "code",
   "execution_count": null,
   "metadata": {},
   "outputs": [],
   "source": [
    "import time\n",
    "import threading\n",
    "\n",
    "class DownThread:\n",
    "    def __init__(self):\n",
    "        self._running = True\n",
    "\n",
    "    def terminate(self):\n",
    "        self._running = False\n",
    "\n",
    "    def run(self, n):\n",
    "        while self._running and n > 0:\n",
    "            print('T-minus', n)\n",
    "            n -= 1\n",
    "            time.sleep(1)\n",
    "if __name__=='__main__':\n",
    "    c = DownThread()\n",
    "    t = threading.Thread(target=c.run, args=(10,))\n",
    "    t.start()\n",
    "    time.sleep(3)\n",
    "    c.terminate()\n",
    "    t.join()"
   ]
  },
  {
   "cell_type": "code",
   "execution_count": 6,
   "metadata": {},
   "outputs": [
    {
     "name": "stdout",
     "output_type": "stream",
     "text": [
      "1\n"
     ]
    }
   ],
   "source": [
    "import threading\n",
    "\n",
    "def func(a):\n",
    "    a=a+1\n",
    "    print a\n",
    "a=0    \n",
    "timer = threading.Timer(5, func,args=[a])\n",
    "timer.start()"
   ]
  },
  {
   "cell_type": "code",
   "execution_count": null,
   "metadata": {},
   "outputs": [],
   "source": []
  }
 ],
 "metadata": {
  "kernelspec": {
   "display_name": "Python 2",
   "language": "python",
   "name": "python2"
  },
  "language_info": {
   "codemirror_mode": {
    "name": "ipython",
    "version": 2
   },
   "file_extension": ".py",
   "mimetype": "text/x-python",
   "name": "python",
   "nbconvert_exporter": "python",
   "pygments_lexer": "ipython2",
   "version": "2.7.15"
  }
 },
 "nbformat": 4,
 "nbformat_minor": 2
}
