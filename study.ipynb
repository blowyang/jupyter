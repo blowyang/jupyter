{
 "cells": [
  {
   "cell_type": "code",
   "execution_count": null,
   "metadata": {
    "scrolled": true
   },
   "outputs": [],
   "source": [
    "str='hello word!'\n",
    "print str"
   ]
  },
  {
   "cell_type": "code",
   "execution_count": null,
   "metadata": {},
   "outputs": [],
   "source": [
    "dir(__builtins__)"
   ]
  },
  {
   "cell_type": "code",
   "execution_count": null,
   "metadata": {},
   "outputs": [],
   "source": [
    "help(pow)"
   ]
  },
  {
   "cell_type": "code",
   "execution_count": null,
   "metadata": {},
   "outputs": [],
   "source": [
    "pow(2,3)"
   ]
  },
  {
   "cell_type": "code",
   "execution_count": null,
   "metadata": {},
   "outputs": [],
   "source": [
    "range(1,10,1)"
   ]
  },
  {
   "cell_type": "markdown",
   "metadata": {},
   "source": [
    "<ol>\n",
    "    <li>当标的资产价格上升（下降）时，看涨（看跌）期权变得更有价值。因为此时期权成为实值期权的可能性也越高。</li>\n",
    "    <li>随着时间的流逝，期权的价值将下降。因为期权变为实值期权的时间减小了。</li>\n",
    "    <li>利率上涨时，期权的价值也将下降。因为我们需要融资来买入期权，当利率上涨时，我们的融资成本也会上升。</li>\n",
    "</ol>"
   ]
  },
  {
   "cell_type": "code",
   "execution_count": null,
   "metadata": {},
   "outputs": [],
   "source": [
    "from threading import Timer\n"
   ]
  },
  {
   "cell_type": "code",
   "execution_count": null,
   "metadata": {},
   "outputs": [],
   "source": [
    "from datetime import datetime \n",
    "import time as tm\n",
    "#nowTime=datetime.datetime.now().strftime('%Y-%m-%d %H:%M:%S')#现在\n",
    "#nowTime=datetime.now()\n",
    "#print(nowTime.minute)\n",
    "h=16\n",
    "m=1\n",
    "def doSth():\n",
    "    print('test')\n",
    "    # 假装做这件事情需要一分钟\n",
    "    tm.sleep(60)\n",
    "while True:\n",
    "    # 判断是否达到设定时间，例如0:00\n",
    "    while True:\n",
    "        now = datetime.now()\n",
    "        # 到达设定时间，结束内循环\n",
    "        if now.hour==h and now.minute==m:\n",
    "            break\n",
    "        # 不到时间就等20秒之后再次检测\n",
    "        tm.sleep(20)\n",
    "    # 做正事，一天做一次\n",
    "    doSth()"
   ]
  },
  {
   "cell_type": "code",
   "execution_count": null,
   "metadata": {},
   "outputs": [],
   "source": []
  }
 ],
 "metadata": {
  "kernelspec": {
   "display_name": "Python 2",
   "language": "python",
   "name": "python2"
  },
  "language_info": {
   "codemirror_mode": {
    "name": "ipython",
    "version": 2
   },
   "file_extension": ".py",
   "mimetype": "text/x-python",
   "name": "python",
   "nbconvert_exporter": "python",
   "pygments_lexer": "ipython2",
   "version": "2.7.15"
  }
 },
 "nbformat": 4,
 "nbformat_minor": 2
}
