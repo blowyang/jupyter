{
 "cells": [
  {
   "cell_type": "code",
   "execution_count": null,
   "metadata": {},
   "outputs": [
    {
     "name": "stderr",
     "output_type": "stream",
     "text": [
      "Getting uuid of QR code.\n",
      "Downloading QR code.\n",
      "Please scan the QR code to log in.\n"
     ]
    }
   ],
   "source": [
    "from __future__ import unicode_literals\n",
    "from wxpy import *\n",
    "from threading import Timer\n",
    "import requests\n",
    "bot=Bot()\n",
    "def get_news():\n",
    "    '''获取金山词霸每日一句，英文和翻译'''\n",
    "    url='http://open.iciba.com/dsapi'\n",
    "    r=requests.get(url)\n",
    "    content=r.json()['content']\n",
    "    note=r.json()['note']\n",
    "    return content,note\n",
    "def send_news():\n",
    "    try:\n",
    "        contents=get_news()\n",
    "        my_friend=bot.friends().search(u'YangPero')[0]\n",
    "        my_friend.send(contents[0])\n",
    "        my_friend.send(contents[1])\n",
    "        t=Timer(86400,send_news)\n",
    "        t.start()\n",
    "    except:\n",
    "        my_friend=bot.friends().search(u'blowyang_2020')[0]\n",
    "        my_friend.send(u'send fail')\n",
    "if __name__ == '__main__':\n",
    "    send_news()"
   ]
  },
  {
   "cell_type": "code",
   "execution_count": 4,
   "metadata": {},
   "outputs": [],
   "source": []
  }
 ],
 "metadata": {
  "kernelspec": {
   "display_name": "Python 2",
   "language": "python",
   "name": "python2"
  },
  "language_info": {
   "codemirror_mode": {
    "name": "ipython",
    "version": 2
   },
   "file_extension": ".py",
   "mimetype": "text/x-python",
   "name": "python",
   "nbconvert_exporter": "python",
   "pygments_lexer": "ipython2",
   "version": "2.7.15"
  }
 },
 "nbformat": 4,
 "nbformat_minor": 2
}
