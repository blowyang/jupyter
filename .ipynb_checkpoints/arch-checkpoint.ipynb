{
 "cells": [
  {
   "cell_type": "markdown",
   "metadata": {},
   "source": [
    "# Volatility Forecasting\n",
    "This setup code is required to run in an IPython notebook"
   ]
  },
  {
   "cell_type": "code",
   "execution_count": 2,
   "metadata": {},
   "outputs": [],
   "source": [
    "import warnings\n",
    "warnings.simplefilter('ignore')\n",
    "\n",
    "%matplotlib inline\n",
    "import seaborn\n",
    "seaborn.set_style('darkgrid')"
   ]
  },
  {
   "cell_type": "code",
   "execution_count": 3,
   "metadata": {},
   "outputs": [],
   "source": [
    "seaborn.mpl.rcParams['figure.figsize'] = (10.0, 6.0)\n",
    "seaborn.mpl.rcParams['savefig.dpi'] = 90"
   ]
  },
  {
   "cell_type": "markdown",
   "metadata": {},
   "source": [
    "## Data\n",
    "These examples make use of S&P 500 data from Yahoo! using the pandas-datareader package to manage data download."
   ]
  },
  {
   "cell_type": "code",
   "execution_count": 14,
   "metadata": {},
   "outputs": [],
   "source": [
    "import datetime as dt\n",
    "import sys\n",
    "\n",
    "import numpy as np\n",
    "import pandas as pd\n",
    "import pandas_datareader.data as web\n",
    "\n",
    "from arch import arch_model\n",
    "\n",
    "start = dt.datetime(2000,1,1)\n",
    "end = dt.datetime(2017,1,1)\n",
    "data = web.get_data_famafrench('F-F_Research_Data_Factors_daily', start=start, end=end)\n",
    "mkt_returns = data[0]['Mkt-RF'] +  data[0]['RF']\n",
    "returns = mkt_returns"
   ]
  },
  {
   "cell_type": "code",
   "execution_count": 37,
   "metadata": {
    "scrolled": true
   },
   "outputs": [
    {
     "data": {
      "text/plain": [
       "Date\n",
       "2000-01-03   -0.689\n",
       "2000-01-04   -4.039\n",
       "2000-01-05   -0.069\n",
       "2000-01-06   -0.709\n",
       "2000-01-07    3.231\n",
       "2000-01-10    1.781\n",
       "2000-01-11   -1.689\n",
       "2000-01-12   -0.669\n",
       "2000-01-13    1.611\n",
       "2000-01-14    1.171\n",
       "2000-01-18   -0.229\n",
       "2000-01-19    0.461\n",
       "2000-01-20   -0.349\n",
       "2000-01-21    0.251\n",
       "2000-01-24   -2.569\n",
       "2000-01-25    0.511\n",
       "2000-01-26   -0.419\n",
       "2000-01-27   -0.419\n",
       "2000-01-28   -2.799\n",
       "2000-01-31    1.521\n",
       "2000-02-01    1.312\n",
       "2000-02-02    0.182\n",
       "2000-02-03    1.512\n",
       "2000-02-04   -0.028\n",
       "2000-02-07    0.372\n",
       "2000-02-08    1.252\n",
       "2000-02-09   -1.808\n",
       "2000-02-10    0.592\n",
       "2000-02-11   -1.718\n",
       "2000-02-14    0.262\n",
       "              ...  \n",
       "2016-11-17    0.561\n",
       "2016-11-18   -0.159\n",
       "2016-11-21    0.771\n",
       "2016-11-22    0.311\n",
       "2016-11-23    0.161\n",
       "2016-11-25    0.401\n",
       "2016-11-28   -0.639\n",
       "2016-11-29    0.111\n",
       "2016-11-30   -0.249\n",
       "2016-12-01   -0.359\n",
       "2016-12-02    0.001\n",
       "2016-12-05    0.751\n",
       "2016-12-06    0.481\n",
       "2016-12-07    1.261\n",
       "2016-12-08    0.361\n",
       "2016-12-09    0.461\n",
       "2016-12-12   -0.299\n",
       "2016-12-13    0.601\n",
       "2016-12-14   -0.819\n",
       "2016-12-15    0.461\n",
       "2016-12-16   -0.219\n",
       "2016-12-19    0.221\n",
       "2016-12-20    0.441\n",
       "2016-12-21   -0.239\n",
       "2016-12-22   -0.299\n",
       "2016-12-23    0.191\n",
       "2016-12-27    0.271\n",
       "2016-12-28   -0.869\n",
       "2016-12-29   -0.039\n",
       "2016-12-30   -0.519\n",
       "Name: None, Length: 4277, dtype: float64"
      ]
     },
     "execution_count": 37,
     "metadata": {},
     "output_type": "execute_result"
    }
   ],
   "source": [
    "returns"
   ]
  },
  {
   "cell_type": "code",
   "execution_count": 41,
   "metadata": {},
   "outputs": [
    {
     "name": "stdout",
     "output_type": "stream",
     "text": [
      "0.0268833294365\n",
      "1.57967711665\n",
      "1.25685206633\n"
     ]
    }
   ],
   "source": [
    "#np.std(returns, ddof = 1)\n",
    "print returns.mean()\n",
    "print returns.var()\n",
    "print returns.std()"
   ]
  },
  {
   "cell_type": "markdown",
   "metadata": {},
   "source": [
    "## Basic Forecasting\n",
    "Forecasts can be generated for standard GARCH(p,q) processes using any of the three forecast generation methods:\n",
    "\n",
    "Analytical\n",
    "Simulation-based\n",
    "Bootstrap-based\n",
    "Be default forecasts will only be produced for the final observation in the sample so that they are out-of-sample.\n",
    "\n",
    "Forecasts start with specifying the model and estimating parameters."
   ]
  },
  {
   "cell_type": "code",
   "execution_count": 17,
   "metadata": {},
   "outputs": [
    {
     "name": "stdout",
     "output_type": "stream",
     "text": [
      "Iteration:      5,   Func. Count:     39,   Neg. LLF: 6130.46328883\n",
      "Iteration:     10,   Func. Count:     71,   Neg. LLF: 6128.47317714\n",
      "Optimization terminated successfully.    (Exit mode 0)\n",
      "            Current function value: 6128.4731682\n",
      "            Iterations: 11\n",
      "            Function evaluations: 77\n",
      "            Gradient evaluations: 11\n"
     ]
    }
   ],
   "source": [
    "am = arch_model(returns, vol='Garch', p=1, o=0, q=1, dist='Normal')\n",
    "res = am.fit(update_freq=5)"
   ]
  },
  {
   "cell_type": "code",
   "execution_count": 18,
   "metadata": {},
   "outputs": [
    {
     "data": {
      "text/plain": [
       "                     Constant Mean - GARCH Model Results                      \n",
       "==============================================================================\n",
       "Dep. Variable:                   None   R-squared:                      -0.001\n",
       "Mean Model:             Constant Mean   Adj. R-squared:                 -0.001\n",
       "Vol Model:                      GARCH   Log-Likelihood:               -6128.47\n",
       "Distribution:                  Normal   AIC:                           12264.9\n",
       "Method:            Maximum Likelihood   BIC:                           12290.4\n",
       "                                        No. Observations:                 4277\n",
       "Date:                Sat, Sep 08 2018   Df Residuals:                     4273\n",
       "Time:                        09:22:39   Df Model:                            4\n",
       "                                 Mean Model                                 \n",
       "============================================================================\n",
       "                 coef    std err          t      P>|t|      95.0% Conf. Int.\n",
       "----------------------------------------------------------------------------\n",
       "mu             0.0613  1.330e-02      4.607  4.089e-06 [3.521e-02,8.736e-02]\n",
       "                              Volatility Model                              \n",
       "============================================================================\n",
       "                 coef    std err          t      P>|t|      95.0% Conf. Int.\n",
       "----------------------------------------------------------------------------\n",
       "omega          0.0226  5.284e-03      4.284  1.832e-05 [1.228e-02,3.300e-02]\n",
       "alpha[1]       0.1007  1.187e-02      8.480  2.247e-17   [7.741e-02,  0.124]\n",
       "beta[1]        0.8818  1.258e-02     70.091      0.000     [  0.857,  0.906]\n",
       "============================================================================\n",
       "\n",
       "Covariance estimator: robust\n",
       "ARCHModelResult, id: 0x1a1e329b50"
      ]
     },
     "execution_count": 18,
     "metadata": {},
     "output_type": "execute_result"
    }
   ],
   "source": [
    "res"
   ]
  },
  {
   "cell_type": "code",
   "execution_count": 23,
   "metadata": {},
   "outputs": [],
   "source": [
    "forecasts = res.forecast()"
   ]
  },
  {
   "cell_type": "markdown",
   "metadata": {},
   "source": [
    "Forecasts are contained in an ARCHModelForecast object which has 4 attributes:\n",
    "<ol>\n",
    "    <li>mean - The forecast means</li>\n",
    "    <li>residual_variance - The forecast residual variances, that is $ E_t[\\varepsilon_{t+h}^2] $ </li>\n",
    "    <li>variance - The forecast variance of the process, $ E_t[r_{t+h}^2] $. The variance will differ from the residual variance whenever the model has mean dynamics, e.g., in an AR process.</li>\n",
    "    <li>simulations - An object that contains detailed information about the simulations used to generate forecasts. Only used if the forecast method is set to 'simulation' or 'bootstrap'. If using 'analytical' (the default), this is None.</li>\n",
    "</ol>\n",
    "\n",
    "The three main outputs are all returned in DataFrames with columns of the form h.# where # is the number of steps ahead. That is, h.1 corresponds to one-step ahead forecasts while h.10 corresponds to 10-steps ahead.\n",
    "\n",
    "The default forecast only produces 1-step ahear forecasts."
   ]
  },
  {
   "cell_type": "code",
   "execution_count": 24,
   "metadata": {},
   "outputs": [
    {
     "name": "stdout",
     "output_type": "stream",
     "text": [
      "                 h.1\n",
      "Date                \n",
      "2016-12-28       NaN\n",
      "2016-12-29       NaN\n",
      "2016-12-30  0.061285\n",
      "                 h.1\n",
      "Date                \n",
      "2016-12-28       NaN\n",
      "2016-12-29       NaN\n",
      "2016-12-30  0.400956\n",
      "                 h.1\n",
      "Date                \n",
      "2016-12-28       NaN\n",
      "2016-12-29       NaN\n",
      "2016-12-30  0.400956\n"
     ]
    }
   ],
   "source": [
    "print(forecasts.mean.iloc[-3:])\n",
    "print(forecasts.residual_variance.iloc[-3:])\n",
    "print(forecasts.variance.iloc[-3:])"
   ]
  },
  {
   "cell_type": "code",
   "execution_count": 21,
   "metadata": {},
   "outputs": [
    {
     "name": "stdout",
     "output_type": "stream",
     "text": [
      "                 h.1       h.2       h.3       h.4       h.5\n",
      "Date                                                        \n",
      "2016-12-28       NaN       NaN       NaN       NaN       NaN\n",
      "2016-12-29       NaN       NaN       NaN       NaN       NaN\n",
      "2016-12-30  0.400956  0.416563  0.431896  0.446961  0.461762\n"
     ]
    }
   ],
   "source": [
    "forecasts = res.forecast(horizon=5)\n",
    "print(forecasts.residual_variance.iloc[-3:])"
   ]
  },
  {
   "cell_type": "code",
   "execution_count": 28,
   "metadata": {},
   "outputs": [
    {
     "name": "stdout",
     "output_type": "stream",
     "text": [
      "Iteration:      5,   Func. Count:     38,   Neg. LLF: 4204.91956121\n",
      "Iteration:     10,   Func. Count:     72,   Neg. LLF: 4202.81502483\n",
      "Optimization terminated successfully.    (Exit mode 0)\n",
      "            Current function value: 4202.81211069\n",
      "            Iterations: 12\n",
      "            Function evaluations: 84\n",
      "            Gradient evaluations: 12\n",
      "                 h.1       h.2       h.3       h.4       h.5\n",
      "Date                                                        \n",
      "2010-12-31  0.365727  0.376462  0.387106  0.397660  0.408124\n",
      "2011-01-03  0.451526  0.461532  0.471453  0.481290  0.491043\n",
      "2011-01-04  0.432131  0.442302  0.452387  0.462386  0.472300\n",
      "2011-01-05  0.430051  0.440239  0.450341  0.460358  0.470289\n",
      "2011-01-06  0.407841  0.418219  0.428508  0.438710  0.448825\n"
     ]
    }
   ],
   "source": [
    "res = am.fit(last_obs = '2011-1-1', update_freq=5)\n",
    "forecasts = res.forecast(horizon=5)\n",
    "print(forecasts.variance.dropna().head())"
   ]
  },
  {
   "cell_type": "code",
   "execution_count": 31,
   "metadata": {},
   "outputs": [
    {
     "name": "stdout",
     "output_type": "stream",
     "text": [
      "....................()\n",
      "                 h.1       h.2       h.3\n",
      "2010-12-31  0.365727  0.376462  0.387106\n",
      "2011-01-03  0.452925  0.462980  0.472948\n",
      "2011-01-04  0.433717  0.443843  0.453886\n",
      "2011-01-05  0.430885  0.441057  0.451145\n",
      "2011-01-06  0.408147  0.418511  0.428787\n",
      "2011-01-07  0.390244  0.400729  0.411128\n",
      "2011-01-10  0.368114  0.378752  0.389303\n",
      "2011-01-11  0.356757  0.367475  0.378107\n",
      "2011-01-12  0.393171  0.403623  0.413989\n",
      "2011-01-13  0.374722  0.385287  0.395767\n",
      "2011-01-14  0.387311  0.397779  0.408162\n",
      "2011-01-18  0.365804  0.376414  0.386937\n",
      "2011-01-19  0.488859  0.498606  0.508272\n",
      "2011-01-20  0.468009  0.477895  0.487699\n",
      "2011-01-21  0.438581  0.448675  0.458684\n",
      "2011-01-24  0.441399  0.451478  0.461472\n",
      "2011-01-25  0.414152  0.424408  0.434579\n",
      "2011-01-26  0.414157  0.424407  0.434571\n",
      "2011-01-27  0.392636  0.403025  0.413328\n",
      "2011-01-28  0.689925  0.698267  0.706538\n"
     ]
    }
   ],
   "source": [
    "index = returns.index\n",
    "start_loc = 0\n",
    "end_loc = np.where(index >= '2011-1-1')[0].min()\n",
    "forecasts = {}\n",
    "for i in range(20):\n",
    "    sys.stdout.write('.')\n",
    "    sys.stdout.flush()\n",
    "    res = am.fit(first_obs=i, last_obs=i+end_loc, disp='off')\n",
    "    temp = res.forecast(horizon=3).variance\n",
    "    fcast = temp.iloc[i+end_loc-1]\n",
    "    forecasts[fcast.name] = fcast\n",
    "print()\n",
    "print(pd.DataFrame(forecasts).T)"
   ]
  },
  {
   "cell_type": "code",
   "execution_count": null,
   "metadata": {},
   "outputs": [],
   "source": []
  }
 ],
 "metadata": {
  "kernelspec": {
   "display_name": "Python 2",
   "language": "python",
   "name": "python2"
  },
  "language_info": {
   "codemirror_mode": {
    "name": "ipython",
    "version": 2
   },
   "file_extension": ".py",
   "mimetype": "text/x-python",
   "name": "python",
   "nbconvert_exporter": "python",
   "pygments_lexer": "ipython2",
   "version": "2.7.14"
  }
 },
 "nbformat": 4,
 "nbformat_minor": 2
}
